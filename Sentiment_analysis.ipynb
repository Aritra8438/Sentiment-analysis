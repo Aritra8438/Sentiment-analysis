{
  "cells": [
    {
      "cell_type": "code",
      "execution_count": null,
      "metadata": {
        "id": "aUY9KoCG-9ze"
      },
      "outputs": [],
      "source": [
        "import os\n",
        "import pandas as pd\n",
        "import re\n",
        "import nltk\n",
        "from nltk.corpus import stopwords\n",
        "from nltk.tokenize import word_tokenize\n",
        "from nltk.stem import WordNetLemmatizer\n",
        "from sklearn.feature_extraction.text import TfidfVectorizer\n",
        "from sklearn.linear_model import LogisticRegression\n",
        "from sklearn.metrics import accuracy_score, classification_report\n",
        "from sklearn.metrics import confusion_matrix, ConfusionMatrixDisplay\n",
        "\n",
        "!pip install black[jupyter] --quiet"
      ]
    },
    {
      "cell_type": "code",
      "execution_count": null,
      "metadata": {
        "colab": {
          "base_uri": "https://localhost:8080/"
        },
        "id": "zUNdAkCo9KAz",
        "outputId": "36908791-7c99-44f2-aeda-be7b84e59e4e"
      },
      "outputs": [
        {
          "name": "stderr",
          "output_type": "stream",
          "text": [
            "[nltk_data] Downloading package punkt to /root/nltk_data...\n",
            "[nltk_data]   Package punkt is already up-to-date!\n",
            "[nltk_data] Downloading package stopwords to /root/nltk_data...\n",
            "[nltk_data]   Package stopwords is already up-to-date!\n",
            "[nltk_data] Downloading package wordnet to /root/nltk_data...\n"
          ]
        },
        {
          "data": {
            "text/plain": [
              "True"
            ]
          },
          "execution_count": 26,
          "metadata": {},
          "output_type": "execute_result"
        }
      ],
      "source": [
        "nltk.download(\"punkt\")\n",
        "nltk.download(\"stopwords\")\n",
        "nltk.download(\"wordnet\")"
      ]
    },
    {
      "cell_type": "code",
      "execution_count": null,
      "metadata": {
        "colab": {
          "base_uri": "https://localhost:8080/"
        },
        "id": "K9ctq_fX9WTi",
        "outputId": "bfe56948-a7ba-4e08-ba75-f60c59ab5384"
      },
      "outputs": [
        {
          "name": "stdout",
          "output_type": "stream",
          "text": [
            "Mounted at /content/drive\n"
          ]
        }
      ],
      "source": [
        "from google.colab import drive\n",
        "\n",
        "drive.mount(\"/content/drive\")"
      ]
    },
    {
      "cell_type": "code",
      "execution_count": null,
      "metadata": {
        "colab": {
          "base_uri": "https://localhost:8080/"
        },
        "id": "N23DwqgM4_8Q",
        "outputId": "7e0a98ea-9b26-4475-a8a4-aeaecaf7781c"
      },
      "outputs": [
        {
          "output_type": "stream",
          "name": "stdout",
          "text": [
            "\u001b[1mAll done! ✨ 🍰 ✨\u001b[0m\n",
            "\u001b[34m1 file \u001b[0mleft unchanged.\n"
          ]
        }
      ],
      "source": [
        "!black \"/content/drive/My Drive/Colab Notebooks/Sentiment-analysis.ipynb\""
      ]
    },
    {
      "cell_type": "code",
      "execution_count": null,
      "metadata": {
        "colab": {
          "base_uri": "https://localhost:8080/"
        },
        "id": "bkkiJAc--pSA",
        "outputId": "16a1cf08-2e0b-4f02-e372-59feea002b12"
      },
      "outputs": [
        {
          "data": {
            "text/plain": [
              "['val.txt', 'test.txt', 'train.txt']"
            ]
          },
          "execution_count": 19,
          "metadata": {},
          "output_type": "execute_result"
        }
      ],
      "source": [
        "root = \"/content/drive/My Drive/Sentiment-analysis-project\"\n",
        "os.listdir(root)"
      ]
    },
    {
      "cell_type": "code",
      "execution_count": null,
      "metadata": {
        "id": "P8lS7KjG7VPz"
      },
      "outputs": [],
      "source": [
        "def preprocess_text(text):\n",
        "    text = re.sub(r\"\\W\", \" \", text)\n",
        "    text = re.sub(r\"\\s+\", \" \", text)\n",
        "    text = text.lower()\n",
        "\n",
        "    tokens = word_tokenize(text)\n",
        "    tokens = [word for word in tokens if word not in stopwords.words(\"english\")]\n",
        "\n",
        "    lemmatizer = WordNetLemmatizer()\n",
        "    tokens = [lemmatizer.lemmatize(word) for word in tokens]\n",
        "\n",
        "    return \" \".join(tokens)"
      ]
    },
    {
      "cell_type": "code",
      "source": [
        "tfidf = TfidfVectorizer(max_features=5000)"
      ],
      "metadata": {
        "id": "82Oz6_4rJdWX"
      },
      "execution_count": null,
      "outputs": []
    },
    {
      "cell_type": "code",
      "execution_count": null,
      "metadata": {
        "id": "huK6wwoo-tCc"
      },
      "outputs": [],
      "source": [
        "def load_data(file_path, train=True):\n",
        "    with open(os.path.join(root, file_path), \"r\") as file:\n",
        "        sentences = []\n",
        "        emotions = []\n",
        "\n",
        "        for line in file:\n",
        "            line = line.strip()\n",
        "            if not line:\n",
        "                continue\n",
        "\n",
        "            sentence, emotion = line.split(\";\")\n",
        "\n",
        "            sentences.append(sentence)\n",
        "            emotions.append(emotion)\n",
        "\n",
        "        df = pd.DataFrame({\"text\": sentences, \"emotion\": emotions})\n",
        "        df[\"text\"] = df[\"text\"].apply(preprocess_text)\n",
        "\n",
        "        if train:\n",
        "            X = tfidf.fit_transform(df[\"text\"]).toarray()\n",
        "        else:\n",
        "            X = tfidf.transform(df[\"text\"]).toarray()\n",
        "        y = df[\"emotion\"]\n",
        "\n",
        "        return X, y"
      ]
    },
    {
      "cell_type": "code",
      "execution_count": null,
      "metadata": {
        "id": "X3Ql6ZzqB5ej"
      },
      "outputs": [],
      "source": [
        "X_train, y_train = load_data(\"train.txt\", True)\n",
        "X_test, y_test = load_data(\"test.txt\", False)\n",
        "# X_val, y_val = load_data(\"val.txt\", False)"
      ]
    },
    {
      "cell_type": "code",
      "execution_count": null,
      "metadata": {
        "colab": {
          "base_uri": "https://localhost:8080/"
        },
        "id": "BibTs6nn80Rb",
        "outputId": "36e021db-78a5-41d1-c795-777128db267c"
      },
      "outputs": [
        {
          "output_type": "stream",
          "name": "stdout",
          "text": [
            "Accuracy: 0.874\n",
            "              precision    recall  f1-score   support\n",
            "\n",
            "       anger       0.88      0.84      0.86       275\n",
            "        fear       0.87      0.79      0.83       224\n",
            "         joy       0.86      0.95      0.90       695\n",
            "        love       0.84      0.64      0.73       159\n",
            "     sadness       0.90      0.93      0.92       581\n",
            "    surprise       0.94      0.52      0.67        66\n",
            "\n",
            "    accuracy                           0.87      2000\n",
            "   macro avg       0.88      0.78      0.82      2000\n",
            "weighted avg       0.87      0.87      0.87      2000\n",
            "\n"
          ]
        }
      ],
      "source": [
        "model = LogisticRegression(max_iter=4000)\n",
        "model.fit(X_train, y_train)\n",
        "\n",
        "# Predict and evaluate\n",
        "y_pred = model.predict(X_test)\n",
        "print(f\"Accuracy: {accuracy_score(y_test, y_pred)}\")\n",
        "print(classification_report(y_test, y_pred))"
      ]
    },
    {
      "cell_type": "code",
      "execution_count": null,
      "metadata": {
        "colab": {
          "base_uri": "https://localhost:8080/",
          "height": 466
        },
        "id": "J61Us3yI-hOb",
        "outputId": "2c31a7b2-3c88-41ff-a0c3-8c4eaeb8d6d6"
      },
      "outputs": [
        {
          "output_type": "execute_result",
          "data": {
            "text/plain": [
              "<sklearn.metrics._plot.confusion_matrix.ConfusionMatrixDisplay at 0x7c2369501b70>"
            ]
          },
          "metadata": {},
          "execution_count": 70
        },
        {
          "output_type": "display_data",
          "data": {
            "text/plain": [
              "<Figure size 640x480 with 2 Axes>"
            ],
            "image/png": "[encoded data removed]"
          },
          "metadata": {}
        }
      ],
      "source": [
        "cm = confusion_matrix(y_test, y_pred, labels=model.classes_)\n",
        "disp = ConfusionMatrixDisplay(confusion_matrix=cm, display_labels=model.classes_)\n",
        "disp.plot()"
      ]
    },
    {
      "cell_type": "code",
      "execution_count": null,
      "metadata": {
        "id": "IUjJnbpS_kAM"
      },
      "outputs": [],
      "source": [
        "def get_answer(text):\n",
        "    text_tokens = preprocess_text(text)\n",
        "    text_vector = tfidf.transform([text]).toarray()\n",
        "    return model.predict(text_vector)[0]"
      ]
    },
    {
      "cell_type": "code",
      "source": [
        "get_answer(\"Why is everything going wrong?\")"
      ],
      "metadata": {
        "colab": {
          "base_uri": "https://localhost:8080/",
          "height": 35
        },
        "id": "nFVdzqd7DfQY",
        "outputId": "29af6639-91d9-413e-9ddf-9f136d298ed3"
      },
      "execution_count": null,
      "outputs": [
        {
          "output_type": "execute_result",
          "data": {
            "text/plain": [
              "'sadness'"
            ],
            "application/vnd.google.colaboratory.intrinsic+json": {
              "type": "string"
            }
          },
          "metadata": {},
          "execution_count": 78
        }
      ]
    },
    {
      "cell_type": "code",
      "source": [],
      "metadata": {
        "id": "KLiJFNQdDisV"
      },
      "execution_count": null,
      "outputs": []
    }
  ],
  "metadata": {
    "colab": {
      "provenance": []
    },
    "kernelspec": {
      "display_name": "Python 3",
      "name": "python3"
    },
    "language_info": {
      "name": "python"
    }
  },
  "nbformat": 4,
  "nbformat_minor": 0
}